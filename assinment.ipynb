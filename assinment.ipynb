{
 "cells": [
  {
   "cell_type": "code",
   "execution_count": null,
   "metadata": {},
   "outputs": [],
   "source": [
    "import numpy as np\n",
    "import matplotlib.pyplot as  plt\n",
    "v1=np.array([1,2,3,4,5])\n",
    "v2=np.array([2,3,4,5,6])\n",
    "v3=np.array([3,4,5,6,7])\n",
    "w=[-1 ,3,-2]\n",
    "result=v1*w[0]+v2*w[1]+v3*[2]"
   ]
  }
 ],
 "metadata": {
  "language_info": {
   "name": "python"
  },
  "orig_nbformat": 4
 },
 "nbformat": 4,
 "nbformat_minor": 2
}
